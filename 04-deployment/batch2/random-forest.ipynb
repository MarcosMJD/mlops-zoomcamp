{
 "cells": [
  {
   "cell_type": "code",
   "execution_count": 19,
   "id": "2e25cf66",
   "metadata": {},
   "outputs": [],
   "source": [
    "import sys\n",
    "import uuid\n",
    "import pandas as pd\n",
    "import mlflow\n",
    "from sklearn.metrics import mean_squared_error\n",
    "import os"
   ]
  },
  {
   "cell_type": "code",
   "execution_count": 5,
   "id": "d5227403",
   "metadata": {},
   "outputs": [],
   "source": [
    "experiment_uri = 's3://mlops-bucket-mmjd/2'"
   ]
  },
  {
   "cell_type": "code",
   "execution_count": 14,
   "id": "b9666e19",
   "metadata": {},
   "outputs": [],
   "source": [
    "def read_dataframe(filename: str):\n",
    "    \n",
    "    df = pd.read_parquet(filename)\n",
    "    df['duration'] = df.lpep_dropoff_datetime - df.lpep_pickup_datetime\n",
    "    df.duration = df.duration.dt.total_seconds() / 60\n",
    "    df = df[(df.duration >= 1) & (df.duration <= 60)]\n",
    "    categorical = ['PULocationID', 'DOLocationID']\n",
    "    df[categorical] = df[categorical].astype(str)\n",
    "    df['PU_DO'] = df['PULocationID'] + '_' + df['DOLocationID']\n",
    "    df['ride_id'] = df.apply(lambda x: str(uuid.uuid4()), axis = 1)\n",
    "    return df\n",
    "\n",
    "\n",
    "def prepare_dictionaries(df: pd.DataFrame):\n",
    "    categorical = ['PU_DO']\n",
    "    numerical = ['trip_distance']\n",
    "    dicts = df[categorical + numerical].to_dict(orient='records')\n",
    "    return dicts"
   ]
  },
  {
   "cell_type": "code",
   "execution_count": 15,
   "id": "c73081e1",
   "metadata": {},
   "outputs": [],
   "source": [
    "def load_model(run_id):\n",
    "\n",
    "  logged_model = f'{experiment_uri}/{run_id}/artifacts/model'\n",
    "  model = mlflow.pyfunc.load_model(logged_model)\n",
    "  return model\n",
    "    "
   ]
  },
  {
   "cell_type": "code",
   "execution_count": 16,
   "id": "399ad332",
   "metadata": {},
   "outputs": [],
   "source": [
    "def apply_model (run_id, input_file, output_file):\n",
    "    df = read_dataframe(input_file)\n",
    "    dicts = prepare_dictionaries(df)\n",
    "    model = load_model(run_id)\n",
    "    y_pred = model.predict(dicts)\n",
    "    df_result = pd.DataFrame()\n",
    "    df_result['ride_id'] = df['ride_id']\n",
    "    df_result['lpep_pickup_datetime'] = df['lpep_pickup_datetime']\n",
    "    df_result['PULocationID'] = df['PULocationID']\n",
    "    df_result['DOLocationID'] = df['DOLocationID']\n",
    "    df_result['actual_duration'] = df['duration']\n",
    "    df_result['predicted_duration'] = y_pred\n",
    "    df_result['diff'] = df_result['actual_duration'] - df_result['predicted_duration']\n",
    "    df_result['model_version'] = run_id\n",
    "\n",
    "    df_result.to_parquet(output_file)"
   ]
  },
  {
   "cell_type": "code",
   "execution_count": 20,
   "id": "de185d3c",
   "metadata": {},
   "outputs": [],
   "source": [
    "def run():\n",
    "    \n",
    "    \"\"\"taxi_type = sys.argv[1]\n",
    "    year = sys.argv[2]\n",
    "    month = sys.argv[3]\n",
    "    run_id = sys.argv[4]\"\"\"\n",
    "\n",
    "    taxi_type = 'green'\n",
    "    year = 2021\n",
    "    month = 2\n",
    "    run_id = '6574d0d7c4b044f585c08de11b3582c4'\n",
    "\n",
    "    output_folder = f'./output/{taxi_type}/'\n",
    "    if not os.path.exists(output_folder):\n",
    "        os.makedirs(output_folder, exist_ok=True)\n",
    "\n",
    "    input_file = f'https://s3.amazonaws.com/nyc-tlc/trip+data/{taxi_type}_tripdata_{year:04d}-{month:02d}.parquet'\n",
    "    output_file = f'{output_folder}/{year:04d}-{month:02d}.parquet'\n",
    "\n",
    "    apply_model (\n",
    "       run_id = run_id,\n",
    "       input_file = input_file,\n",
    "       output_file = output_file)"
   ]
  },
  {
   "cell_type": "code",
   "execution_count": 21,
   "id": "529caf33",
   "metadata": {},
   "outputs": [],
   "source": [
    "if __name__ == '__main__':\n",
    "    run()"
   ]
  },
  {
   "cell_type": "code",
   "execution_count": null,
   "id": "11a4de41",
   "metadata": {},
   "outputs": [],
   "source": []
  },
  {
   "cell_type": "code",
   "execution_count": null,
   "id": "1a5dcc89",
   "metadata": {},
   "outputs": [],
   "source": []
  },
  {
   "cell_type": "code",
   "execution_count": null,
   "id": "8c1d37d0",
   "metadata": {},
   "outputs": [],
   "source": []
  }
 ],
 "metadata": {
  "kernelspec": {
   "display_name": "Python 3 (ipykernel)",
   "language": "python",
   "name": "python3"
  },
  "language_info": {
   "codemirror_mode": {
    "name": "ipython",
    "version": 3
   },
   "file_extension": ".py",
   "mimetype": "text/x-python",
   "name": "python",
   "nbconvert_exporter": "python",
   "pygments_lexer": "ipython3",
   "version": "3.9.7"
  }
 },
 "nbformat": 4,
 "nbformat_minor": 5
}
