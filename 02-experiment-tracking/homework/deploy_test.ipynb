{
 "cells": [
  {
   "cell_type": "code",
   "execution_count": 89,
   "id": "49a0c707",
   "metadata": {},
   "outputs": [],
   "source": [
    "import requests\n",
    "import pickle\n",
    "import mlflow\n",
    "import pandas\n",
    "from sklearn.feature_extraction import DictVectorizer"
   ]
  },
  {
   "cell_type": "code",
   "execution_count": 90,
   "id": "4654c878",
   "metadata": {},
   "outputs": [],
   "source": [
    "dv_path = './output/dv.pkl'\n",
    "model_uri = './artifacts/2/bc86bb7220a14f1b94b038c8e6d52c16/artifacts/model'"
   ]
  },
  {
   "cell_type": "markdown",
   "id": "108ef49a",
   "metadata": {},
   "source": [
    "Start server with mlflow models serve --model-uri ./artifacts/2/bc86bb7220a14f1b94b038c8e6d52c16/artifacts/model\n",
    "This will create a conda env named mlflow-b1bd6a48ce10354a9129faed002053f1fc6bb46c (if it does not exists). Also will install the requirements from model definition (check MLmodel and, depending on the setup, conda.yaml or python_env.yaml+requirements.txt)"
   ]
  },
  {
   "cell_type": "markdown",
   "id": "ee3df363",
   "metadata": {},
   "source": [
    "Use mlflow models build-docker --model-uri './artifacts/2/bc86bb7220a14f1b94b038c8e6d52c16/artifacts/model' -n 'mlflow-inference-server' to create a docker image with the model and all needed to serve (nginx, gunicorn, mlflow and so on), using python_function flavor. Takes some minutes to finish. Currently, error arises. Not fixed yet"
   ]
  },
  {
   "cell_type": "code",
   "execution_count": 91,
   "id": "f17e2e87",
   "metadata": {},
   "outputs": [],
   "source": [
    "def load_dv(filename):\n",
    "    with open(filename,'rb') as f_in:\n",
    "        return pickle.load(f_in)"
   ]
  },
  {
   "cell_type": "code",
   "execution_count": 92,
   "id": "3b6d7f16",
   "metadata": {},
   "outputs": [],
   "source": [
    "dv = load_dv(dv_path)"
   ]
  },
  {
   "cell_type": "code",
   "execution_count": 93,
   "id": "cdbb1bf2",
   "metadata": {},
   "outputs": [],
   "source": [
    "x = dv.transform({'PU_DO': '43_151', 'trip_distance': 1.01})"
   ]
  },
  {
   "cell_type": "code",
   "execution_count": 94,
   "id": "2df5132c",
   "metadata": {},
   "outputs": [],
   "source": [
    "# model = mlflow.pyfunc.load_model(model_uri)"
   ]
  },
  {
   "cell_type": "code",
   "execution_count": 95,
   "id": "5b1f0f19",
   "metadata": {},
   "outputs": [],
   "source": [
    "model = mlflow.sklearn.load_model(model_uri)"
   ]
  },
  {
   "cell_type": "code",
   "execution_count": 96,
   "id": "d4284cad",
   "metadata": {},
   "outputs": [
    {
     "name": "stdout",
     "output_type": "stream",
     "text": [
      "CPU times: total: 0 ns\n",
      "Wall time: 5 ms\n"
     ]
    },
    {
     "data": {
      "text/plain": [
       "array([5.91443593])"
      ]
     },
     "execution_count": 96,
     "metadata": {},
     "output_type": "execute_result"
    }
   ],
   "source": [
    "%time model.predict(x)"
   ]
  },
  {
   "cell_type": "code",
   "execution_count": 97,
   "id": "d256f975",
   "metadata": {},
   "outputs": [],
   "source": [
    "payload = pandas.DataFrame.sparse.from_spmatrix(x).to_json(orient='split')"
   ]
  },
  {
   "cell_type": "code",
   "execution_count": 100,
   "id": "53732168",
   "metadata": {},
   "outputs": [
    {
     "name": "stdout",
     "output_type": "stream",
     "text": [
      "CPU times: total: 0 ns\n",
      "Wall time: 2.31 s\n"
     ]
    }
   ],
   "source": [
    "%time r = requests.post('http://127.0.0.1:5000/invocations', data=payload, headers={'Content-Type': 'application/json'})"
   ]
  },
  {
   "cell_type": "code",
   "execution_count": 101,
   "id": "b25095ff",
   "metadata": {},
   "outputs": [
    {
     "data": {
      "text/plain": [
       "'[5.91443592786821]'"
      ]
     },
     "execution_count": 101,
     "metadata": {},
     "output_type": "execute_result"
    }
   ],
   "source": [
    "r.text"
   ]
  },
  {
   "cell_type": "code",
   "execution_count": null,
   "id": "d0256029",
   "metadata": {},
   "outputs": [],
   "source": []
  }
 ],
 "metadata": {
  "kernelspec": {
   "display_name": "Python 3 (ipykernel)",
   "language": "python",
   "name": "python3"
  },
  "language_info": {
   "codemirror_mode": {
    "name": "ipython",
    "version": 3
   },
   "file_extension": ".py",
   "mimetype": "text/x-python",
   "name": "python",
   "nbconvert_exporter": "python",
   "pygments_lexer": "ipython3",
   "version": "3.9.7"
  }
 },
 "nbformat": 4,
 "nbformat_minor": 5
}
