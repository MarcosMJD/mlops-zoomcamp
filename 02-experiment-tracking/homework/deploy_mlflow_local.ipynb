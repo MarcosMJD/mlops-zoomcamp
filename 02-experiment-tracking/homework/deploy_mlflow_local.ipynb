{
 "cells": [
  {
   "cell_type": "code",
   "execution_count": 37,
   "id": "80dec50c",
   "metadata": {},
   "outputs": [],
   "source": [
    "import requests\n",
    "import pickle\n",
    "import mlflow\n",
    "import pandas\n",
    "from sklearn.feature_extraction import DictVectorizer"
   ]
  },
  {
   "cell_type": "code",
   "execution_count": 74,
   "id": "bc0a2081",
   "metadata": {},
   "outputs": [],
   "source": [
    "dv_path = './output/dv.pkl'\n",
    "model_uri = './artifacts/2/bc86bb7220a14f1b94b038c8e6d52c16/artifacts/model'"
   ]
  },
  {
   "cell_type": "markdown",
   "id": "6a2504e9",
   "metadata": {},
   "source": [
    "Start server with mlflow models serve --model-uri ./artifacts/2/bc86bb7220a14f1b94b038c8e6d52c16/artifacts/model\n",
    "This will create a conda env named mlflow-b1bd6a48ce10354a9129faed002053f1fc6bb46c (if it does not exists). Also will install the requirements from model definition (check MLmodel and, depending on the setup, conda.yaml or python_env.yaml+requirements.txt)"
   ]
  },
  {
   "cell_type": "code",
   "execution_count": 75,
   "id": "d0fed905",
   "metadata": {},
   "outputs": [],
   "source": [
    "def load_dv(filename):\n",
    "    with open(filename,'rb') as f_in:\n",
    "        return pickle.load(f_in)"
   ]
  },
  {
   "cell_type": "code",
   "execution_count": 76,
   "id": "bf299927",
   "metadata": {},
   "outputs": [],
   "source": [
    "dv = load_dv(dv_path)"
   ]
  },
  {
   "cell_type": "code",
   "execution_count": 77,
   "id": "b0356ab9",
   "metadata": {},
   "outputs": [],
   "source": [
    "x = dv.transform({'PU_DO': '43_151', 'trip_distance': 1.01})"
   ]
  },
  {
   "cell_type": "code",
   "execution_count": 87,
   "id": "bf0f8366",
   "metadata": {},
   "outputs": [],
   "source": [
    "# model = mlflow.pyfunc.load_model(model_uri)"
   ]
  },
  {
   "cell_type": "code",
   "execution_count": 79,
   "id": "078e594a",
   "metadata": {},
   "outputs": [],
   "source": [
    "model = mlflow.sklearn.load_model(model_uri)"
   ]
  },
  {
   "cell_type": "code",
   "execution_count": 88,
   "id": "d68e3374",
   "metadata": {},
   "outputs": [
    {
     "name": "stdout",
     "output_type": "stream",
     "text": [
      "CPU times: total: 0 ns\n",
      "Wall time: 6 ms\n"
     ]
    },
    {
     "data": {
      "text/plain": [
       "array([5.91443593])"
      ]
     },
     "execution_count": 88,
     "metadata": {},
     "output_type": "execute_result"
    }
   ],
   "source": [
    "%time model.predict(x)"
   ]
  },
  {
   "cell_type": "code",
   "execution_count": 81,
   "id": "c3ff241f",
   "metadata": {},
   "outputs": [],
   "source": [
    "payload = pandas.DataFrame.sparse.from_spmatrix(x).to_json(orient='split')"
   ]
  },
  {
   "cell_type": "code",
   "execution_count": 84,
   "id": "b44b6809",
   "metadata": {},
   "outputs": [
    {
     "name": "stdout",
     "output_type": "stream",
     "text": [
      "CPU times: total: 0 ns\n",
      "Wall time: 2.18 s\n"
     ]
    }
   ],
   "source": [
    "%time r = requests.post('http://127.0.0.1:5000/invocations', data=payload, headers={'Content-Type': 'application/json'})"
   ]
  },
  {
   "cell_type": "code",
   "execution_count": 85,
   "id": "c164f1c0",
   "metadata": {},
   "outputs": [
    {
     "data": {
      "text/plain": [
       "'[5.91443592786821]'"
      ]
     },
     "execution_count": 85,
     "metadata": {},
     "output_type": "execute_result"
    }
   ],
   "source": [
    "r.text"
   ]
  },
  {
   "cell_type": "code",
   "execution_count": null,
   "id": "083695ba",
   "metadata": {},
   "outputs": [],
   "source": []
  }
 ],
 "metadata": {
  "kernelspec": {
   "display_name": "Python 3 (ipykernel)",
   "language": "python",
   "name": "python3"
  },
  "language_info": {
   "codemirror_mode": {
    "name": "ipython",
    "version": 3
   },
   "file_extension": ".py",
   "mimetype": "text/x-python",
   "name": "python",
   "nbconvert_exporter": "python",
   "pygments_lexer": "ipython3",
   "version": "3.9.7"
  }
 },
 "nbformat": 4,
 "nbformat_minor": 5
}
