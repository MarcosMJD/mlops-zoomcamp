{
 "cells": [
  {
   "cell_type": "code",
   "execution_count": 17,
   "id": "45574f21",
   "metadata": {},
   "outputs": [],
   "source": [
    "url = 'https://nyc-tlc.s3.amazonaws.com/trip+data/'\n",
    "prefix = 'green_tripdata_2021-'\n",
    "suffix = '.parquet'\n",
    "months = ['01','02','03']\n",
    "destination_path = './data/'\n",
    "filenames = [prefix + m + suffix for m in months]\n",
    "data_sources = [url + filename for filename in filenames]\n",
    "destinations = [destination_path + filename for filename in filenames]"
   ]
  },
  {
   "cell_type": "code",
   "execution_count": 18,
   "id": "efa13ee5",
   "metadata": {},
   "outputs": [
    {
     "data": {
      "text/plain": [
       "['./data/green_tripdata_2021-01.parquet',\n",
       " './data/green_tripdata_2021-02.parquet',\n",
       " './data/green_tripdata_2021-03.parquet']"
      ]
     },
     "execution_count": 18,
     "metadata": {},
     "output_type": "execute_result"
    }
   ],
   "source": [
    "destinations"
   ]
  },
  {
   "cell_type": "code",
   "execution_count": 24,
   "id": "436814f0",
   "metadata": {},
   "outputs": [
    {
     "name": "stderr",
     "output_type": "stream",
     "text": [
      "  % Total    % Received % Xferd  Average Speed   Time    Time     Time  Current\n",
      "                                 Dload  Upload   Total   Spent    Left  Speed\n",
      "\n",
      "  0     0    0     0    0     0      0      0 --:--:-- --:--:-- --:--:--     0\n",
      "  0     0    0     0    0     0      0      0 --:--:-- --:--:-- --:--:--     0\n",
      " 74 1302k   74  970k    0     0   896k      0  0:00:01  0:00:01 --:--:--  897k\n",
      "100 1302k  100 1302k    0     0   961k      0  0:00:01  0:00:01 --:--:--  961k\n",
      "  % Total    % Received % Xferd  Average Speed   Time    Time     Time  Current\n",
      "                                 Dload  Upload   Total   Spent    Left  Speed\n",
      "\n",
      "  0     0    0     0    0     0      0      0 --:--:-- --:--:-- --:--:--     0\n",
      " 12 1118k   12  137k    0     0   205k      0  0:00:05 --:--:--  0:00:05  205k\n",
      "100 1118k  100 1118k    0     0   925k      0  0:00:01  0:00:01 --:--:--  926k\n",
      "  % Total    % Received % Xferd  Average Speed   Time    Time     Time  Current\n",
      "                                 Dload  Upload   Total   Spent    Left  Speed\n",
      "\n",
      "  0     0    0     0    0     0      0      0 --:--:-- --:--:-- --:--:--     0\n",
      "  0 1439k    0     0    0     0      0      0 --:--:-- --:--:-- --:--:--     0\n",
      "100 1439k  100 1439k    0     0  1177k      0  0:00:01  0:00:01 --:--:-- 1178k\n"
     ]
    }
   ],
   "source": [
    "for i, source in enumerate(data_sources):\n",
    "    source = data_sources[i]\n",
    "    destination = destinations[i]\n",
    "    !curl $source -o $destination --create-dirs"
   ]
  },
  {
   "cell_type": "code",
   "execution_count": null,
   "id": "6e77b407",
   "metadata": {},
   "outputs": [],
   "source": []
  }
 ],
 "metadata": {
  "kernelspec": {
   "display_name": "Python 3 (ipykernel)",
   "language": "python",
   "name": "python3"
  },
  "language_info": {
   "codemirror_mode": {
    "name": "ipython",
    "version": 3
   },
   "file_extension": ".py",
   "mimetype": "text/x-python",
   "name": "python",
   "nbconvert_exporter": "python",
   "pygments_lexer": "ipython3",
   "version": "3.9.7"
  }
 },
 "nbformat": 4,
 "nbformat_minor": 5
}
