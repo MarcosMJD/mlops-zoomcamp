{
 "cells": [
  {
   "cell_type": "code",
   "execution_count": 26,
   "id": "8f43f9a0",
   "metadata": {},
   "outputs": [],
   "source": [
    "import pymongo"
   ]
  },
  {
   "cell_type": "code",
   "execution_count": 27,
   "id": "80d12149",
   "metadata": {},
   "outputs": [],
   "source": [
    "client = pymongo.MongoClient('mongodb://localhost:27018')"
   ]
  },
  {
   "cell_type": "code",
   "execution_count": 28,
   "id": "cb0a0389",
   "metadata": {},
   "outputs": [],
   "source": [
    "db = client.get_database('prediction_service')"
   ]
  },
  {
   "cell_type": "code",
   "execution_count": 29,
   "id": "4b3c4c8c",
   "metadata": {},
   "outputs": [],
   "source": [
    "col = db.get_collection('data')"
   ]
  },
  {
   "cell_type": "code",
   "execution_count": 30,
   "id": "fac1938e",
   "metadata": {},
   "outputs": [],
   "source": [
    "data = list(col.find())"
   ]
  },
  {
   "cell_type": "code",
   "execution_count": 31,
   "id": "cfc4f071",
   "metadata": {},
   "outputs": [
    {
     "data": {
      "text/plain": [
       "1335"
      ]
     },
     "execution_count": 31,
     "metadata": {},
     "output_type": "execute_result"
    }
   ],
   "source": [
    "len(data)"
   ]
  },
  {
   "cell_type": "code",
   "execution_count": 32,
   "id": "f7ebf470",
   "metadata": {},
   "outputs": [
    {
     "data": {
      "text/plain": [
       "{'_id': ObjectId('62c6ad6a98a0dc17ec5f287c'),\n",
       " 'VendorID': 1,\n",
       " 'lpep_pickup_datetime': '2022-01-01T00:47:57',\n",
       " 'lpep_dropoff_datetime': '2022-01-01T00:54:09',\n",
       " 'store_and_fwd_flag': 'N',\n",
       " 'RatecodeID': 1.0,\n",
       " 'PULocationID': 150,\n",
       " 'DOLocationID': 210,\n",
       " 'passenger_count': 1.0,\n",
       " 'trip_distance': 1.3,\n",
       " 'fare_amount': 7.0,\n",
       " 'extra': 0.5,\n",
       " 'mta_tax': 0.5,\n",
       " 'tip_amount': 0.0,\n",
       " 'tolls_amount': 0.0,\n",
       " 'ehail_fee': None,\n",
       " 'improvement_surcharge': 0.3,\n",
       " 'total_amount': 8.3,\n",
       " 'payment_type': 2.0,\n",
       " 'trip_type': 1.0,\n",
       " 'congestion_surcharge': 0.0,\n",
       " 'id': 'c8055e3e-5601-456a-98a1-c924549bc835',\n",
       " 'PU_DO': '150_210',\n",
       " 'prediction': 7.3526779911965185}"
      ]
     },
     "execution_count": 32,
     "metadata": {},
     "output_type": "execute_result"
    }
   ],
   "source": [
    "data[5]"
   ]
  },
  {
   "cell_type": "code",
   "execution_count": null,
   "id": "772d88ba",
   "metadata": {},
   "outputs": [],
   "source": []
  }
 ],
 "metadata": {
  "kernelspec": {
   "display_name": "05-monitoring-CmNplIGE",
   "language": "python",
   "name": "05-monitoring-cmnplige"
  },
  "language_info": {
   "codemirror_mode": {
    "name": "ipython",
    "version": 3
   },
   "file_extension": ".py",
   "mimetype": "text/x-python",
   "name": "python",
   "nbconvert_exporter": "python",
   "pygments_lexer": "ipython3",
   "version": "3.9.7"
  }
 },
 "nbformat": 4,
 "nbformat_minor": 5
}
