{
 "cells": [
  {
   "cell_type": "code",
   "execution_count": 288,
   "id": "cfc641c3",
   "metadata": {},
   "outputs": [],
   "source": [
    "import pandas as pd\n",
    "import numpy as np\n",
    "import pickle\n",
    "import seaborn as sns\n",
    "import matplotlib.pyplot as plt\n",
    "from sklearn.feature_extraction import DictVectorizer\n",
    "from sklearn.linear_model import LinearRegression, Lasso, Ridge\n",
    "from sklearn.metrics import mean_squared_error\n",
    "from IPython.display import display"
   ]
  },
  {
   "cell_type": "markdown",
   "id": "44bd284b",
   "metadata": {},
   "source": [
    "# Data ingestion"
   ]
  },
  {
   "cell_type": "code",
   "execution_count": 289,
   "id": "17f27f6b",
   "metadata": {},
   "outputs": [],
   "source": [
    "url = 'https://nyc-tlc.s3.amazonaws.com/trip+data/'\n",
    "files = ['fhv_tripdata_2021-01.parquet', 'fhv_tripdata_2021-02.parquet']\n",
    "data_sources = [url + file for file in files]\n",
    "data_destinations = ['./data/' + file for file in files]"
   ]
  },
  {
   "cell_type": "code",
   "execution_count": 290,
   "id": "8007dab4",
   "metadata": {},
   "outputs": [
    {
     "name": "stdout",
     "output_type": "stream",
     "text": [
      "Downloading https://nyc-tlc.s3.amazonaws.com/trip+data/fhv_tripdata_2021-01.parquet\n",
      "Downloading https://nyc-tlc.s3.amazonaws.com/trip+data/fhv_tripdata_2021-02.parquet\n"
     ]
    },
    {
     "name": "stderr",
     "output_type": "stream",
     "text": [
      "  % Total    % Received % Xferd  Average Speed   Time    Time     Time  Current\n",
      "                                 Dload  Upload   Total   Spent    Left  Speed\n",
      "\n",
      "  0     0    0     0    0     0      0      0 --:--:-- --:--:-- --:--:--     0\n",
      "  2 11.3M    2  237k    0     0   265k      0  0:00:43 --:--:--  0:00:43  265k\n",
      " 12 11.3M   12 1495k    0     0   814k      0  0:00:14  0:00:01  0:00:13  815k\n",
      " 26 11.3M   26 3025k    0     0  1057k      0  0:00:10  0:00:02  0:00:08 1057k\n",
      " 40 11.3M   40 4674k    0     0  1211k      0  0:00:09  0:00:03  0:00:06 1211k\n",
      " 53 11.3M   53 6221k    0     0  1286k      0  0:00:09  0:00:04  0:00:05 1286k\n",
      " 68 11.3M   68 7904k    0     0  1348k      0  0:00:08  0:00:05  0:00:03 1543k\n",
      " 83 11.3M   83 9655k    0     0  1408k      0  0:00:08  0:00:06  0:00:02 1626k\n",
      " 98 11.3M   98 11.1M    0     0  1460k      0  0:00:07  0:00:07 --:--:-- 1691k\n",
      "100 11.3M  100 11.3M    0     0  1464k      0  0:00:07  0:00:07 --:--:-- 1705k\n",
      "  % Total    % Received % Xferd  Average Speed   Time    Time     Time  Current\n",
      "                                 Dload  Upload   Total   Spent    Left  Speed\n",
      "\n",
      "  0     0    0     0    0     0      0      0 --:--:-- --:--:-- --:--:--     0\n",
      "  2 10.1M    2  237k    0     0   274k      0  0:00:37 --:--:--  0:00:37  274k\n",
      " 26 10.1M   26 2770k    0     0  1497k      0  0:00:06  0:00:01  0:00:05 1497k\n",
      " 64 10.1M   64 6697k    0     0  2350k      0  0:00:04  0:00:02  0:00:02 2350k\n",
      "100 10.1M  100 10.1M    0     0  2755k      0  0:00:03  0:00:03 --:--:-- 2756k\n"
     ]
    }
   ],
   "source": [
    "for i in range(len(data_sources)):\n",
    "    source = data_sources[i]\n",
    "    destination = data_destinations[i]\n",
    "    print(f'Downloading {data_sources[i]}')\n",
    "    !curl $source -o $destination --create-dirs "
   ]
  },
  {
   "cell_type": "markdown",
   "id": "dfaf2fc6",
   "metadata": {},
   "source": [
    "# Data preparation\n",
    "- Look at the data\n",
    "- Make column names and values look uniform\n",
    "- Check if all the columns read correctly\n",
    "- Check and transform types - categorical/numerical features"
   ]
  },
  {
   "cell_type": "code",
   "execution_count": 346,
   "id": "072ad992",
   "metadata": {},
   "outputs": [],
   "source": [
    "def read_dataframe (data_file, categorical_features=None, numerical_features=None, target=None, verbose=False):\n",
    "    \n",
    "    if (verbose): print(f'Processing dataset {data_file}')\n",
    "    df = pd.read_parquet(data_file)\n",
    "    if (verbose): print(f'shape: {df.shape}')\n",
    "    df.columns.str.lower().str.replace(' ','_')\n",
    "    if (verbose): print(f'types:\\n{df.dtypes}')\n",
    "    \n",
    "    categorical_columns = list(df.dtypes[df.dtypes == 'object'].index)\n",
    "    numerical_columns = list(df.dtypes[df.dtypes != 'object'].index)\n",
    "    \n",
    "    for column in categorical_columns:\n",
    "        # This will not touch the None values, only the not None types are processed (type(df['store_and_fwd_flag'].iloc[-1]) => 'NoneType')\n",
    "        df[column] = df[column].str.lower().str.replace(' ', '_')\n",
    "\n",
    "    df['duration'] = (df['dropOff_datetime'] - df['pickup_datetime']).dt.seconds / 60\n",
    "\n",
    "    if verbose:\n",
    "        display(df.head().T)\n",
    "        print(f'types:\\n{df.dtypes}')\n",
    "        \n",
    "        print('\\nUniques values\\n')\n",
    "        \n",
    "        for c in df.columns:\n",
    "            print(c)\n",
    "            nuniques = df[c].nunique()\n",
    "            if nuniques < 20:\n",
    "                display(c, df[c].unique())\n",
    "            else:\n",
    "                print(f'Number of uniques values is {nuniques}')\n",
    "            \n",
    "        print('\\ncategorical_columns\\n')\n",
    "        for column in categorical_columns:\n",
    "            display(f'Feature: {column}')\n",
    "            nuniques = df[column].nunique()\n",
    "            display(f'Number of unique values: {nuniques}')\n",
    "            display(f'Number of nulls: {df[column].isnull().sum()}')\n",
    "            if nuniques < 20:\n",
    "                display(df[column].value_counts(normalize=True))\n",
    "            \n",
    "        print('\\nnumerical_columns\\n')\n",
    "        for column in numerical_columns:\n",
    "            display(f'Feature: {column}')\n",
    "            nuniques = df[column].nunique()\n",
    "            display(f'Number of unique values: {nuniques}')\n",
    "            display(f'Number of nulls: {df[column].isnull().sum()}')\n",
    "            if nuniques < 20:\n",
    "                display(df[column].value_counts(normalize=False))\n",
    "        \n",
    "        sns.displot(df.duration, kind='kde')\n",
    "        print('\\ndescription of duration:')\n",
    "        print(df['duration'].describe(percentiles=[0.1, 0.2, 0.95, 0.98, 0.99]))\n",
    "        print(f'% of trips within 1-60 min: {((df.duration >= 1) & (df.duration<=60)).mean()}')\n",
    "    \n",
    "    if (verbose): print('\\nFiltering by duration...')\n",
    "    df = df[(df.duration >= 1) & (df.duration<=60)]\n",
    "    if (verbose): print(f'shape: {df.shape}')\n",
    "\n",
    "    for column in ['PUlocationID', 'DOlocationID']:\n",
    "        if (verbose): print(f'\\nFilling {round(df[column].isna().mean()*100,2)}% of nans with -1 in column: {column}')\n",
    "        df[column].fillna(-1, inplace=True)\n",
    "        \n",
    "    if not categorical_features:\n",
    "        categorical_features = ['PUlocationID', 'DOlocationID']\n",
    "    if not numerical_features:\n",
    "        numerical_features =  []\n",
    "    if not target:\n",
    "        target = ['duration']\n",
    "    df[categorical_features] = df[categorical_features].astype('str')\n",
    "    df.drop(df.columns.difference(categorical_features+numerical_features+target), axis=1, inplace=True)    \n",
    "    \n",
    "    if verbose:\n",
    "        print(f'\\nfinal shape: {df.shape}')\n",
    "        print(f'\\nfinal types:\\n{df.dtypes}')\n",
    "        print(f'\\ncategorical_features: {categorical_features}')\n",
    "        print(f'\\nnumerical_features: {numerical_features}')\n",
    "        print(f'\\ntarget: {target}')       \n",
    "    \n",
    "    return df[categorical_features+numerical_features],df[target] \n",
    "    "
   ]
  },
  {
   "cell_type": "markdown",
   "id": "f9516c82",
   "metadata": {},
   "source": [
    "# Data Reading and preparation from function"
   ]
  },
  {
   "cell_type": "code",
   "execution_count": 347,
   "id": "421a3cd6",
   "metadata": {},
   "outputs": [],
   "source": [
    "categorical_features = ['PUlocationID', 'DOlocationID']\n",
    "numerical_features=  []\n",
    "target = ['duration']"
   ]
  },
  {
   "cell_type": "code",
   "execution_count": 348,
   "id": "671b1fc0",
   "metadata": {},
   "outputs": [
    {
     "name": "stdout",
     "output_type": "stream",
     "text": [
      "Processing dataset https://nyc-tlc.s3.amazonaws.com/trip+data/fhv_tripdata_2021-01.parquet\n",
      "shape: (1154112, 7)\n",
      "types:\n",
      "dispatching_base_num              object\n",
      "pickup_datetime           datetime64[ns]\n",
      "dropOff_datetime          datetime64[ns]\n",
      "PUlocationID                     float64\n",
      "DOlocationID                     float64\n",
      "SR_Flag                           object\n",
      "Affiliated_base_number            object\n",
      "dtype: object\n"
     ]
    },
    {
     "data": {
      "text/html": [
       "<div>\n",
       "<style scoped>\n",
       "    .dataframe tbody tr th:only-of-type {\n",
       "        vertical-align: middle;\n",
       "    }\n",
       "\n",
       "    .dataframe tbody tr th {\n",
       "        vertical-align: top;\n",
       "    }\n",
       "\n",
       "    .dataframe thead th {\n",
       "        text-align: right;\n",
       "    }\n",
       "</style>\n",
       "<table border=\"1\" class=\"dataframe\">\n",
       "  <thead>\n",
       "    <tr style=\"text-align: right;\">\n",
       "      <th></th>\n",
       "      <th>0</th>\n",
       "      <th>1</th>\n",
       "      <th>2</th>\n",
       "      <th>3</th>\n",
       "      <th>4</th>\n",
       "    </tr>\n",
       "  </thead>\n",
       "  <tbody>\n",
       "    <tr>\n",
       "      <th>dispatching_base_num</th>\n",
       "      <td>b00009</td>\n",
       "      <td>b00009</td>\n",
       "      <td>b00013</td>\n",
       "      <td>b00037</td>\n",
       "      <td>b00037</td>\n",
       "    </tr>\n",
       "    <tr>\n",
       "      <th>pickup_datetime</th>\n",
       "      <td>2021-01-01 00:27:00</td>\n",
       "      <td>2021-01-01 00:50:00</td>\n",
       "      <td>2021-01-01 00:01:00</td>\n",
       "      <td>2021-01-01 00:13:09</td>\n",
       "      <td>2021-01-01 00:38:31</td>\n",
       "    </tr>\n",
       "    <tr>\n",
       "      <th>dropOff_datetime</th>\n",
       "      <td>2021-01-01 00:44:00</td>\n",
       "      <td>2021-01-01 01:07:00</td>\n",
       "      <td>2021-01-01 01:51:00</td>\n",
       "      <td>2021-01-01 00:21:26</td>\n",
       "      <td>2021-01-01 00:53:44</td>\n",
       "    </tr>\n",
       "    <tr>\n",
       "      <th>PUlocationID</th>\n",
       "      <td>NaN</td>\n",
       "      <td>NaN</td>\n",
       "      <td>NaN</td>\n",
       "      <td>NaN</td>\n",
       "      <td>NaN</td>\n",
       "    </tr>\n",
       "    <tr>\n",
       "      <th>DOlocationID</th>\n",
       "      <td>NaN</td>\n",
       "      <td>NaN</td>\n",
       "      <td>NaN</td>\n",
       "      <td>72.0</td>\n",
       "      <td>61.0</td>\n",
       "    </tr>\n",
       "    <tr>\n",
       "      <th>SR_Flag</th>\n",
       "      <td>None</td>\n",
       "      <td>None</td>\n",
       "      <td>None</td>\n",
       "      <td>None</td>\n",
       "      <td>None</td>\n",
       "    </tr>\n",
       "    <tr>\n",
       "      <th>Affiliated_base_number</th>\n",
       "      <td>b00009</td>\n",
       "      <td>b00009</td>\n",
       "      <td>b00013</td>\n",
       "      <td>b00037</td>\n",
       "      <td>b00037</td>\n",
       "    </tr>\n",
       "    <tr>\n",
       "      <th>duration</th>\n",
       "      <td>17.0</td>\n",
       "      <td>17.0</td>\n",
       "      <td>110.0</td>\n",
       "      <td>8.283333</td>\n",
       "      <td>15.216667</td>\n",
       "    </tr>\n",
       "  </tbody>\n",
       "</table>\n",
       "</div>"
      ],
      "text/plain": [
       "                                          0                    1  \\\n",
       "dispatching_base_num                 b00009               b00009   \n",
       "pickup_datetime         2021-01-01 00:27:00  2021-01-01 00:50:00   \n",
       "dropOff_datetime        2021-01-01 00:44:00  2021-01-01 01:07:00   \n",
       "PUlocationID                            NaN                  NaN   \n",
       "DOlocationID                            NaN                  NaN   \n",
       "SR_Flag                                None                 None   \n",
       "Affiliated_base_number               b00009               b00009   \n",
       "duration                               17.0                 17.0   \n",
       "\n",
       "                                          2                    3  \\\n",
       "dispatching_base_num                 b00013               b00037   \n",
       "pickup_datetime         2021-01-01 00:01:00  2021-01-01 00:13:09   \n",
       "dropOff_datetime        2021-01-01 01:51:00  2021-01-01 00:21:26   \n",
       "PUlocationID                            NaN                  NaN   \n",
       "DOlocationID                            NaN                 72.0   \n",
       "SR_Flag                                None                 None   \n",
       "Affiliated_base_number               b00013               b00037   \n",
       "duration                              110.0             8.283333   \n",
       "\n",
       "                                          4  \n",
       "dispatching_base_num                 b00037  \n",
       "pickup_datetime         2021-01-01 00:38:31  \n",
       "dropOff_datetime        2021-01-01 00:53:44  \n",
       "PUlocationID                            NaN  \n",
       "DOlocationID                           61.0  \n",
       "SR_Flag                                None  \n",
       "Affiliated_base_number               b00037  \n",
       "duration                          15.216667  "
      ]
     },
     "metadata": {},
     "output_type": "display_data"
    },
    {
     "name": "stdout",
     "output_type": "stream",
     "text": [
      "types:\n",
      "dispatching_base_num              object\n",
      "pickup_datetime           datetime64[ns]\n",
      "dropOff_datetime          datetime64[ns]\n",
      "PUlocationID                     float64\n",
      "DOlocationID                     float64\n",
      "SR_Flag                           object\n",
      "Affiliated_base_number            object\n",
      "duration                         float64\n",
      "dtype: object\n",
      "\n",
      "Uniques values\n",
      "\n",
      "dispatching_base_num\n",
      "Number of uniques values is 537\n",
      "pickup_datetime\n",
      "Number of uniques values is 807066\n",
      "dropOff_datetime\n",
      "Number of uniques values is 812640\n",
      "PUlocationID\n",
      "Number of uniques values is 261\n",
      "DOlocationID\n",
      "Number of uniques values is 262\n",
      "SR_Flag\n"
     ]
    },
    {
     "data": {
      "text/plain": [
       "'SR_Flag'"
      ]
     },
     "metadata": {},
     "output_type": "display_data"
    },
    {
     "data": {
      "text/plain": [
       "array([None], dtype=object)"
      ]
     },
     "metadata": {},
     "output_type": "display_data"
    },
    {
     "name": "stdout",
     "output_type": "stream",
     "text": [
      "Affiliated_base_number\n",
      "Number of uniques values is 699\n",
      "duration\n",
      "Number of uniques values is 10790\n",
      "\n",
      "categorical_columns\n",
      "\n"
     ]
    },
    {
     "data": {
      "text/plain": [
       "'Feature: dispatching_base_num'"
      ]
     },
     "metadata": {},
     "output_type": "display_data"
    },
    {
     "data": {
      "text/plain": [
       "'Number of unique values: 537'"
      ]
     },
     "metadata": {},
     "output_type": "display_data"
    },
    {
     "data": {
      "text/plain": [
       "'Number of nulls: 0'"
      ]
     },
     "metadata": {},
     "output_type": "display_data"
    },
    {
     "data": {
      "text/plain": [
       "'Feature: SR_Flag'"
      ]
     },
     "metadata": {},
     "output_type": "display_data"
    },
    {
     "data": {
      "text/plain": [
       "'Number of unique values: 0'"
      ]
     },
     "metadata": {},
     "output_type": "display_data"
    },
    {
     "data": {
      "text/plain": [
       "'Number of nulls: 1154112'"
      ]
     },
     "metadata": {},
     "output_type": "display_data"
    },
    {
     "data": {
      "text/plain": [
       "Series([], Name: SR_Flag, dtype: float64)"
      ]
     },
     "metadata": {},
     "output_type": "display_data"
    },
    {
     "data": {
      "text/plain": [
       "'Feature: Affiliated_base_number'"
      ]
     },
     "metadata": {},
     "output_type": "display_data"
    },
    {
     "data": {
      "text/plain": [
       "'Number of unique values: 699'"
      ]
     },
     "metadata": {},
     "output_type": "display_data"
    },
    {
     "data": {
      "text/plain": [
       "'Number of nulls: 885'"
      ]
     },
     "metadata": {},
     "output_type": "display_data"
    },
    {
     "name": "stdout",
     "output_type": "stream",
     "text": [
      "\n",
      "numerical_columns\n",
      "\n"
     ]
    },
    {
     "data": {
      "text/plain": [
       "'Feature: pickup_datetime'"
      ]
     },
     "metadata": {},
     "output_type": "display_data"
    },
    {
     "data": {
      "text/plain": [
       "'Number of unique values: 807066'"
      ]
     },
     "metadata": {},
     "output_type": "display_data"
    },
    {
     "data": {
      "text/plain": [
       "'Number of nulls: 0'"
      ]
     },
     "metadata": {},
     "output_type": "display_data"
    },
    {
     "data": {
      "text/plain": [
       "'Feature: dropOff_datetime'"
      ]
     },
     "metadata": {},
     "output_type": "display_data"
    },
    {
     "data": {
      "text/plain": [
       "'Number of unique values: 812640'"
      ]
     },
     "metadata": {},
     "output_type": "display_data"
    },
    {
     "data": {
      "text/plain": [
       "'Number of nulls: 0'"
      ]
     },
     "metadata": {},
     "output_type": "display_data"
    },
    {
     "data": {
      "text/plain": [
       "'Feature: PUlocationID'"
      ]
     },
     "metadata": {},
     "output_type": "display_data"
    },
    {
     "data": {
      "text/plain": [
       "'Number of unique values: 261'"
      ]
     },
     "metadata": {},
     "output_type": "display_data"
    },
    {
     "data": {
      "text/plain": [
       "'Number of nulls: 958267'"
      ]
     },
     "metadata": {},
     "output_type": "display_data"
    },
    {
     "data": {
      "text/plain": [
       "'Feature: DOlocationID'"
      ]
     },
     "metadata": {},
     "output_type": "display_data"
    },
    {
     "data": {
      "text/plain": [
       "'Number of unique values: 262'"
      ]
     },
     "metadata": {},
     "output_type": "display_data"
    },
    {
     "data": {
      "text/plain": [
       "'Number of nulls: 162220'"
      ]
     },
     "metadata": {},
     "output_type": "display_data"
    },
    {
     "name": "stdout",
     "output_type": "stream",
     "text": [
      "\n",
      "description of duration:\n",
      "count    1.154112e+06\n",
      "mean     1.861074e+01\n",
      "std      2.736175e+01\n",
      "min      0.000000e+00\n",
      "10%      4.333333e+00\n",
      "20%      6.633333e+00\n",
      "50%      1.340000e+01\n",
      "95%      4.725000e+01\n",
      "98%      6.610000e+01\n",
      "99%      9.016667e+01\n",
      "max      1.430000e+03\n",
      "Name: duration, dtype: float64\n",
      "% of trips within 1-60 min: 0.9616510356013974\n",
      "\n",
      "Filtering by duration...\n",
      "shape: (1109853, 8)\n",
      "\n",
      "Filling 83.53% of nans with -1 in column: PUlocationID\n",
      "\n",
      "Filling 13.33% of nans with -1 in column: DOlocationID\n",
      "\n",
      "final shape: (1109853, 3)\n",
      "\n",
      "final types:\n",
      "PUlocationID     object\n",
      "DOlocationID     object\n",
      "duration        float64\n",
      "dtype: object\n",
      "\n",
      "categorical_features: ['PUlocationID', 'DOlocationID']\n",
      "\n",
      "numerical_features: []\n",
      "\n",
      "target: ['duration']\n"
     ]
    },
    {
     "data": {
      "image/png": "[encoded data removed]",
      "text/plain": [
       "<Figure size 360x360 with 1 Axes>"
      ]
     },
     "metadata": {
      "needs_background": "light"
     },
     "output_type": "display_data"
    }
   ],
   "source": [
    "df_train, y_train = read_dataframe(data_sources[0], categorical_features=categorical_features, numerical_features=numerical_features, target=target, verbose=True)\n",
    "df_val, y_val = read_dataframe(data_sources[1], categorical_features=categorical_features, numerical_features=numerical_features, target=target)"
   ]
  },
  {
   "cell_type": "markdown",
   "id": "666e9ff0",
   "metadata": {},
   "source": [
    "# Encoding"
   ]
  },
  {
   "cell_type": "code",
   "execution_count": 349,
   "id": "ac274816",
   "metadata": {},
   "outputs": [],
   "source": [
    "dv = DictVectorizer()"
   ]
  },
  {
   "cell_type": "code",
   "execution_count": 350,
   "id": "491d8005",
   "metadata": {},
   "outputs": [],
   "source": [
    "train_dicts = df_train.to_dict(orient='records')\n",
    "val_dicts = df_val.to_dict(orient='records')"
   ]
  },
  {
   "cell_type": "code",
   "execution_count": 351,
   "id": "ef093423",
   "metadata": {},
   "outputs": [],
   "source": [
    "X_train = dv.fit_transform(train_dicts)\n",
    "X_val = dv.transform(val_dicts)"
   ]
  },
  {
   "cell_type": "code",
   "execution_count": 352,
   "id": "8b504d0b",
   "metadata": {},
   "outputs": [
    {
     "name": "stdout",
     "output_type": "stream",
     "text": [
      "Number of caterories in df_train: (525,)\n"
     ]
    }
   ],
   "source": [
    "print(f'Number of caterories in df_train: {dv.get_feature_names_out().shape}')"
   ]
  },
  {
   "cell_type": "code",
   "execution_count": 353,
   "id": "472c3037",
   "metadata": {},
   "outputs": [],
   "source": [
    "y_train = y_train[target].values\n",
    "y_val = y_val[target].values"
   ]
  },
  {
   "cell_type": "markdown",
   "id": "7b6fbabf",
   "metadata": {},
   "source": [
    "# Lineal regression"
   ]
  },
  {
   "cell_type": "code",
   "execution_count": 354,
   "id": "da98fd2f",
   "metadata": {},
   "outputs": [
    {
     "data": {
      "text/plain": [
       "LinearRegression()"
      ]
     },
     "execution_count": 354,
     "metadata": {},
     "output_type": "execute_result"
    }
   ],
   "source": [
    "lr = LinearRegression()\n",
    "lr.fit(X_train, y_train)"
   ]
  },
  {
   "cell_type": "code",
   "execution_count": 355,
   "id": "8daccf45",
   "metadata": {},
   "outputs": [],
   "source": [
    "y_pred = lr.predict(X_train)"
   ]
  },
  {
   "cell_type": "code",
   "execution_count": 356,
   "id": "231062c6",
   "metadata": {},
   "outputs": [
    {
     "name": "stderr",
     "output_type": "stream",
     "text": [
      "C:\\Users\\MARCOS\\anaconda3\\envs\\mlops-zoomcamp\\lib\\site-packages\\seaborn\\distributions.py:2619: FutureWarning: `distplot` is a deprecated function and will be removed in a future version. Please adapt your code to use either `displot` (a figure-level function with similar flexibility) or `histplot` (an axes-level function for histograms).\n",
      "  warnings.warn(msg, FutureWarning)\n",
      "C:\\Users\\MARCOS\\anaconda3\\envs\\mlops-zoomcamp\\lib\\site-packages\\seaborn\\distributions.py:2619: FutureWarning: `distplot` is a deprecated function and will be removed in a future version. Please adapt your code to use either `displot` (a figure-level function with similar flexibility) or `histplot` (an axes-level function for histograms).\n",
      "  warnings.warn(msg, FutureWarning)\n"
     ]
    },
    {
     "data": {
      "text/plain": [
       "<matplotlib.legend.Legend at 0x25905739700>"
      ]
     },
     "execution_count": 356,
     "metadata": {},
     "output_type": "execute_result"
    },
    {
     "data": {
      "image/png": "[encoded data removed]",
      "text/plain": [
       "<Figure size 432x288 with 1 Axes>"
      ]
     },
     "metadata": {
      "needs_background": "light"
     },
     "output_type": "display_data"
    }
   ],
   "source": [
    "sns.distplot(y_pred, label='predictions')\n",
    "sns.distplot(y_train, label='actual')\n",
    "plt.legend()"
   ]
  },
  {
   "cell_type": "markdown",
   "id": "45029676",
   "metadata": {},
   "source": [
    "Check performance in training dataset with rmse (return rmse, so is interpreted as the mean error in minutes)"
   ]
  },
  {
   "cell_type": "code",
   "execution_count": 357,
   "id": "9af5c02a",
   "metadata": {},
   "outputs": [
    {
     "data": {
      "text/plain": [
       "10.528643263699815"
      ]
     },
     "execution_count": 357,
     "metadata": {},
     "output_type": "execute_result"
    }
   ],
   "source": [
    "mean_squared_error(y_train,y_pred, squared=False)"
   ]
  },
  {
   "cell_type": "markdown",
   "id": "98b4e9f0",
   "metadata": {},
   "source": [
    "The performance of this baseline model is bad. We can use other features, or change the "
   ]
  },
  {
   "cell_type": "markdown",
   "id": "877bc301",
   "metadata": {},
   "source": [
    "# Validation framework\n",
    "We will use datasets from different months for train and validation"
   ]
  },
  {
   "cell_type": "code",
   "execution_count": 363,
   "id": "6e2997db",
   "metadata": {},
   "outputs": [],
   "source": [
    "y_pred = lr.predict(X_val)"
   ]
  },
  {
   "cell_type": "code",
   "execution_count": 364,
   "id": "094f4608",
   "metadata": {},
   "outputs": [
    {
     "data": {
      "text/plain": [
       "11.0145436775827"
      ]
     },
     "execution_count": 364,
     "metadata": {},
     "output_type": "execute_result"
    }
   ],
   "source": [
    "mean_squared_error(y_val,y_pred, squared=False)"
   ]
  },
  {
   "cell_type": "markdown",
   "id": "263b6062",
   "metadata": {},
   "source": [
    "# Other models"
   ]
  },
  {
   "cell_type": "code",
   "execution_count": 365,
   "id": "bf179119",
   "metadata": {},
   "outputs": [
    {
     "data": {
      "text/plain": [
       "11.303383133969728"
      ]
     },
     "execution_count": 365,
     "metadata": {},
     "output_type": "execute_result"
    }
   ],
   "source": [
    "lr = Lasso(alpha=0.01)\n",
    "lr.fit(X_train, y_train)\n",
    "y_pred = lr.predict(X_val)\n",
    "mean_squared_error(y_val, y_pred, squared=False)"
   ]
  },
  {
   "cell_type": "code",
   "execution_count": 366,
   "id": "0c748b46",
   "metadata": {},
   "outputs": [
    {
     "data": {
      "text/plain": [
       "11.0145436775827"
      ]
     },
     "execution_count": 366,
     "metadata": {},
     "output_type": "execute_result"
    }
   ],
   "source": [
    "lr = Ridge()\n",
    "lr.fit(X_train, y_train)\n",
    "y_pred = lr.predict(X_val)\n",
    "mean_squared_error(y_val, y_pred, squared=False)"
   ]
  },
  {
   "cell_type": "markdown",
   "id": "3e0d1590",
   "metadata": {},
   "source": [
    "# Feature engineering\n",
    "Combine PU and DO (interaction features)"
   ]
  },
  {
   "cell_type": "code",
   "execution_count": 367,
   "id": "b072ee76",
   "metadata": {},
   "outputs": [],
   "source": [
    "df_train['PU_DO'] = df_train['PUlocationID'] + '_' + df_train['DOlocationID']\n",
    "df_val['PU_DO'] = df_val['PUlocationID'] + '_' + df_val['DOlocationID']"
   ]
  },
  {
   "cell_type": "code",
   "execution_count": 370,
   "id": "0a6132c5",
   "metadata": {},
   "outputs": [],
   "source": [
    "categorical = ['PU_DO'] #'PULocationID', 'DOLocationID']\n",
    "numerical = []"
   ]
  },
  {
   "cell_type": "code",
   "execution_count": 371,
   "id": "2f7296cc",
   "metadata": {},
   "outputs": [],
   "source": [
    "dv = DictVectorizer()\n",
    "\n",
    "train_dicts = df_train[categorical + numerical].to_dict(orient='records')\n",
    "X_train = dv.fit_transform(train_dicts)\n",
    "\n",
    "val_dicts = df_val[categorical + numerical].to_dict(orient='records')\n",
    "X_val = dv.transform(val_dicts)"
   ]
  },
  {
   "cell_type": "code",
   "execution_count": 372,
   "id": "71939818",
   "metadata": {},
   "outputs": [
    {
     "data": {
      "text/plain": [
       "10.596653391725953"
      ]
     },
     "execution_count": 372,
     "metadata": {},
     "output_type": "execute_result"
    }
   ],
   "source": [
    "lr = LinearRegression()\n",
    "lr.fit(X_train, y_train)\n",
    "\n",
    "y_pred = lr.predict(X_val)\n",
    "\n",
    "mean_squared_error(y_val, y_pred, squared=False)"
   ]
  },
  {
   "cell_type": "markdown",
   "id": "8170786d",
   "metadata": {},
   "source": [
    "Save the best result"
   ]
  },
  {
   "cell_type": "code",
   "execution_count": 373,
   "id": "f7cde2b2",
   "metadata": {},
   "outputs": [],
   "source": [
    "import os\n",
    "if not os.path.exists(\"./models\"):\n",
    "    os.makedirs(\"./models\")\n",
    "\n",
    "with open('models/lin_reg_green.bin','bw') as f_out:\n",
    "    pickle.dump((dv,lr), f_out)"
   ]
  },
  {
   "cell_type": "code",
   "execution_count": null,
   "id": "a6e0baa7",
   "metadata": {},
   "outputs": [],
   "source": [
    "lr = Lasso(0.01)\n",
    "lr.fit(X_train, y_train)\n",
    "\n",
    "y_pred = lr.predict(X_val)\n",
    "\n",
    "mean_squared_error(y_val, y_pred, squared=False)"
   ]
  }
 ],
 "metadata": {
  "kernelspec": {
   "display_name": "Python 3 (ipykernel)",
   "language": "python",
   "name": "python3"
  },
  "language_info": {
   "codemirror_mode": {
    "name": "ipython",
    "version": 3
   },
   "file_extension": ".py",
   "mimetype": "text/x-python",
   "name": "python",
   "nbconvert_exporter": "python",
   "pygments_lexer": "ipython3",
   "version": "3.9.7"
  }
 },
 "nbformat": 4,
 "nbformat_minor": 5
}
